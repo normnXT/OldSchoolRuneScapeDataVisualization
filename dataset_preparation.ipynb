{
 "cells": [
  {
   "metadata": {},
   "cell_type": "markdown",
   "source": "<span style=\"color:red\">**IMPORTANT**: If updates are made to the `filtered` subsets data, it's important to merge them to the `items` files using `merge_subset.ipynb` before running this file or any updates made will be wiped</span>",
   "id": "90750ee3bbbed587"
  },
  {
   "cell_type": "code",
   "id": "initial_id",
   "metadata": {
    "collapsed": true,
    "ExecuteTime": {
     "end_time": "2024-09-30T01:45:43.863410Z",
     "start_time": "2024-09-30T01:45:43.860494Z"
    }
   },
   "source": "from utils.utils import load_json, save_json",
   "outputs": [],
   "execution_count": 41
  },
  {
   "metadata": {
    "ExecuteTime": {
     "end_time": "2024-09-30T01:45:43.896635Z",
     "start_time": "2024-09-30T01:45:43.872922Z"
    }
   },
   "cell_type": "code",
   "source": [
    "\"\"\"Loads OSRSbox weapon datasets and appends the missing weapons JSON files (which contain new weapons introduced after ~2020).\n",
    "\"\"\"\n",
    "\n",
    "\n",
    "def load_weapons():\n",
    "    weapons = load_json(\"data/items-weapon.json\")\n",
    "    missing_data = load_json(\"data/missing_data.json\")\n",
    "\n",
    "    for weapon_id, weapon_info in missing_data.items():\n",
    "        weapons[str(weapon_id)] = weapon_info\n",
    "\n",
    "    return weapons\n",
    "\n",
    "\n",
    "def load_2h_weapons():\n",
    "    two_hand_weapons = load_json(\"data/items-2h.json\")\n",
    "    missing_2h_data = load_json(\"data/missing_2h_data.json\")\n",
    "\n",
    "    for weapon_id, weapon_info in missing_2h_data.items():\n",
    "        two_hand_weapons[str(weapon_id)] = weapon_info\n",
    "\n",
    "    return two_hand_weapons\n",
    "\n",
    "\n",
    "weapons = load_weapons()\n",
    "two_hand_weapons = load_2h_weapons()"
   ],
   "id": "d965c4ea9a3fad33",
   "outputs": [],
   "execution_count": 42
  },
  {
   "metadata": {
    "ExecuteTime": {
     "end_time": "2024-09-30T01:45:43.917440Z",
     "start_time": "2024-09-30T01:45:43.903297Z"
    }
   },
   "cell_type": "code",
   "source": [
    "\"\"\"The code in this cell as reduces the OSRS weapons data down to standard mid to late game PVE melee weapons. Trivial copies like poisoned variants or minigame variants were removed. Weapons that are not feasible or realistic for the average player or are more decorative, like 3rd age weapons, volcanic/frozen whips, ornate or gilded weapons were removed. Weapons used primarily for skilling were removed. Low durability or partially charged variants like those for barrows or crystal weapons were removed.\n",
    "\n",
    "Additionally, it is a very old game, and select OSRS weapons have multiple identical copies or duplicates under different item ids. The duplicates item ids have been added to lists to be removed. \n",
    "\"\"\"\n",
    "\n",
    "filter_weapons_substring = [\n",
    "    \"last man standing\", \"(or)\", \"(c)\", \"(poison)\", \"(poison+)\",\n",
    "    \"(poison++)\", \"(p)\", \"(p+)\", \"(p++)\", \"(attuned)\",\n",
    "    \"(basic)\", \"(perfected)\", \"corrupted halberd\",\n",
    "    \"salamander\", \"adamant\", \"(75)\", \"(50)\", \"(25)\", \"(inactive)\",\n",
    "    \"(historical)\", \"(active)\", \"dinh's\", \"(100)\",\n",
    "    \"(kp)\", \"gilded\", \"(ornate handle)\", \"mithril\",\n",
    "    \"(uncharged)\", \"pharaoh's\", \"holy\", \"sanguine\", \"(partially charged)\",\n",
    "    \"(t)\", \"3rd\", \"staff\", \"battlestaff\", \"crozier\", \"barronite\",\n",
    "    \"decorative\", \"(karambwan poison)\", \"cane\", \"cleaver\", \"sickle\",\n",
    "    \"pickaxe\", \"harpoon\", \"infernal axe\", \"frozen\", \"meat\", \"rolling\",\n",
    "    \"skewer\", \"vesta's\", \"statius's\", \"trailblazer axe\", \"rune\",\n",
    "    \"dragon axe\", \"void\", \"volcanic\", \"(i)\", \"brine\", \"gadderhammer\",\n",
    "    \"hill giant\", \"toktz-mej-tal\", \"blisterwood\", \"ivandis\",\n",
    "]\n",
    "weapon_duplicates = [\"1373\", \"7668\", \"21205\", \"20559\", \"10581\", \"7142\"]\n",
    "two_hand_weapon_duplicates = [\"20402\", \"23332\", \"23330\", \"1333\", \"21009\", \"20785\", \"7142\", \"10581\", \"4587\", \"6523\"]\n",
    "keep_these_key_values = [\"id\", \"name\", \"wiki_name\", \"wiki_url\", \"equipment\", \"weapon\"]\n",
    "\n",
    "\n",
    "def filter_weapons(weapons, duplicates, filter_weapons_substring):\n",
    "    filtered_weapons = {}\n",
    "\n",
    "    for weapon_id, weapon_info in weapons.items():\n",
    "        if (weapon_info[\"equipment\"][\"melee_strength\"] >= 30\n",
    "                and weapon_id not in duplicates\n",
    "                and not any(substring in weapon_info[\"wiki_name\"].lower() for substring in filter_weapons_substring)):\n",
    "            weapon_info_copy = {}\n",
    "            for key, value in weapon_info.items():\n",
    "                if key in keep_these_key_values:\n",
    "                    weapon_info_copy[key] = value\n",
    "            filtered_weapons[weapon_id] = weapon_info_copy\n",
    "\n",
    "    return dict(sorted(filtered_weapons.items(), key=lambda weapon: weapon[1]['wiki_name']))\n",
    "\n",
    "\n",
    "strong_weapons = filter_weapons(weapons, weapon_duplicates, filter_weapons_substring)\n",
    "strong_two_hand_weapons = filter_weapons(two_hand_weapons, two_hand_weapon_duplicates, filter_weapons_substring)\n",
    "\n",
    "save_json(\"data/filtered_weapons.json\", strong_weapons)\n",
    "save_json(\"data/filtered_2h_weapons.json\", strong_two_hand_weapons)"
   ],
   "id": "e3b9810ea7f1a67",
   "outputs": [],
   "execution_count": 43
  },
  {
   "metadata": {
    "ExecuteTime": {
     "end_time": "2024-09-30T01:45:43.930417Z",
     "start_time": "2024-09-30T01:45:43.924289Z"
    }
   },
   "cell_type": "code",
   "source": [
    "\"\"\"This cell retrieves select non-spec weapons that are considered meta for OSRS using their item ids and saves them to a JSON file. It mostly retrieves the top three most common and strongest crush, slash, and stab weapons with a few additional weapons like the new Soulreaper Axe. As stated, meta \"spec\" or special attack weapons like Elder Maul, Dragon Claws and Voidwaker are omitted.\n",
    "\"\"\"\n",
    "\n",
    "meta_weapon_id = [\"4151\", \"12006\", \"23995\", \"20406\", \"22324\", \"24417\", \"25977\", \"12346\", \"23528\", \"11889\"]\n",
    "meta_two_hand_weapon_id = [\"13263\", \"12355\", \"22325\", \"12357\"]\n",
    "\n",
    "\n",
    "def filter_meta_weapons(weapons, meta_weapon_id):\n",
    "    filtered_meta_weapons = {}\n",
    "\n",
    "    for weapon_id, weapon_info in weapons.items():\n",
    "        if weapon_id in meta_weapon_id:\n",
    "            weapon_info_copy = {}\n",
    "            for key, value in weapon_info.items():\n",
    "                if key in keep_these_key_values:\n",
    "                    weapon_info_copy[key] = value\n",
    "            filtered_meta_weapons[weapon_id] = weapon_info_copy\n",
    "\n",
    "    return dict(sorted(filtered_meta_weapons.items(), key=lambda weapon: weapon[1]['wiki_name']))\n",
    "\n",
    "\n",
    "meta_weapons = filter_meta_weapons(weapons, meta_weapon_id)\n",
    "meta_two_hand_weapons = filter_meta_weapons(two_hand_weapons, meta_two_hand_weapon_id)\n",
    "\n",
    "save_json(\"data/filtered_meta_weapons.json\", meta_weapons)\n",
    "save_json(\"data/filtered_meta_two_hand_weapons.json\", meta_two_hand_weapons)"
   ],
   "id": "26c29108677e21e6",
   "outputs": [],
   "execution_count": 44
  }
 ],
 "metadata": {
  "kernelspec": {
   "display_name": "Python 3",
   "language": "python",
   "name": "python3"
  },
  "language_info": {
   "codemirror_mode": {
    "name": "ipython",
    "version": 2
   },
   "file_extension": ".py",
   "mimetype": "text/x-python",
   "name": "python",
   "nbconvert_exporter": "python",
   "pygments_lexer": "ipython2",
   "version": "2.7.6"
  }
 },
 "nbformat": 4,
 "nbformat_minor": 5
}
