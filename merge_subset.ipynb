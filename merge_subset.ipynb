{
 "cells": [
  {
   "cell_type": "code",
   "id": "initial_id",
   "metadata": {
    "collapsed": true,
    "ExecuteTime": {
     "end_time": "2024-09-26T01:41:53.158050Z",
     "start_time": "2024-09-26T01:41:52.997036Z"
    }
   },
   "source": [
    "\"\"\"This notebook is useful if manual stat updates are made to `filtered` datasets. This code surgically replaces json weapon objects in the original `item` databases with objects from `filtered` json files using their item_id. Incomplete `missing` objects have not been added to the original `item` OSRSbox database.\n",
    "\"\"\"\n",
    "from utils import load_json, save_json\n",
    "\n",
    "\n",
    "def update_items(main_items, filtered_items):\n",
    "    for item_id, filtered_data in filtered_items.items():\n",
    "        if item_id in main_items:\n",
    "            main_items[item_id] = filtered_data \n",
    "    return main_items\n",
    "\n",
    "\n",
    "filtered_weapons_path = 'data/filtered_weapons.json'\n",
    "filtered_2h_weapons_path = 'data/filtered_2h_weapons.json'\n",
    "items_weapon_path = 'data/items-weapon.json'\n",
    "items_2h_path = 'data/items-2h.json'\n",
    "\n",
    "filtered_weapons = load_json(filtered_weapons_path)\n",
    "filtered_2h_weapons = load_json(filtered_2h_weapons_path)\n",
    "items_weapon = load_json(items_weapon_path)\n",
    "items_2h = load_json(items_2h_path)\n",
    "\n",
    "updated_items_weapon = update_items(items_weapon, filtered_weapons)\n",
    "updated_items_2h = update_items(items_2h, filtered_2h_weapons)\n",
    "\n",
    "save_json(items_weapon_path, updated_items_weapon)\n",
    "save_json(items_2h_path, updated_items_2h)\n",
    "\n"
   ],
   "outputs": [
    {
     "name": "stdout",
     "output_type": "stream",
     "text": [
      "Items updated successfully!\n"
     ]
    }
   ],
   "execution_count": 3
  }
 ],
 "metadata": {
  "kernelspec": {
   "display_name": "Python 3",
   "language": "python",
   "name": "python3"
  },
  "language_info": {
   "codemirror_mode": {
    "name": "ipython",
    "version": 2
   },
   "file_extension": ".py",
   "mimetype": "text/x-python",
   "name": "python",
   "nbconvert_exporter": "python",
   "pygments_lexer": "ipython2",
   "version": "2.7.6"
  }
 },
 "nbformat": 4,
 "nbformat_minor": 5
}
